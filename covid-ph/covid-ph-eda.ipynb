{
 "cells": [
  {
   "cell_type": "code",
   "execution_count": 1,
   "metadata": {},
   "outputs": [],
   "source": [
    "import pandas as pd\n",
    "import numpy as np\n",
    "import matplotlib.pyplot as plt\n",
    "%matplotlib inline"
   ]
  },
  {
   "cell_type": "code",
   "execution_count": 2,
   "metadata": {},
   "outputs": [
    {
     "name": "stderr",
     "output_type": "stream",
     "text": [
      "C:\\Users\\Neil\\AppData\\Local\\Temp\\ipykernel_24112\\1103290739.py:2: DtypeWarning: Columns (16,17) have mixed types. Specify dtype option on import or set low_memory=False.\n",
      "  dataframes = [pd.read_csv(file) for file in files]\n",
      "C:\\Users\\Neil\\AppData\\Local\\Temp\\ipykernel_24112\\1103290739.py:2: DtypeWarning: Columns (8,11,19,21) have mixed types. Specify dtype option on import or set low_memory=False.\n",
      "  dataframes = [pd.read_csv(file) for file in files]\n"
     ]
    }
   ],
   "source": [
    "files = [f'data/Cases-{i}.csv' for i in range(5)]\n",
    "dataframes = [pd.read_csv(file) for file in files]\n",
    "df = pd.concat(dataframes, ignore_index = True)"
   ]
  },
  {
   "cell_type": "code",
   "execution_count": 3,
   "metadata": {},
   "outputs": [
    {
     "data": {
      "text/html": [
       "<div>\n",
       "<style scoped>\n",
       "    .dataframe tbody tr th:only-of-type {\n",
       "        vertical-align: middle;\n",
       "    }\n",
       "\n",
       "    .dataframe tbody tr th {\n",
       "        vertical-align: top;\n",
       "    }\n",
       "\n",
       "    .dataframe thead th {\n",
       "        text-align: right;\n",
       "    }\n",
       "</style>\n",
       "<table border=\"1\" class=\"dataframe\">\n",
       "  <thead>\n",
       "    <tr style=\"text-align: right;\">\n",
       "      <th></th>\n",
       "      <th>CaseCode</th>\n",
       "      <th>Age</th>\n",
       "      <th>AgeGroup</th>\n",
       "      <th>Sex</th>\n",
       "      <th>DateSpecimen</th>\n",
       "      <th>DateResultRelease</th>\n",
       "      <th>DateRepConf</th>\n",
       "      <th>DateDied</th>\n",
       "      <th>DateRecover</th>\n",
       "      <th>RemovalType</th>\n",
       "      <th>...</th>\n",
       "      <th>ProvRes</th>\n",
       "      <th>CityMunRes</th>\n",
       "      <th>CityMuniPSGC</th>\n",
       "      <th>BarangayRes</th>\n",
       "      <th>BarangayPSGC</th>\n",
       "      <th>HealthStatus</th>\n",
       "      <th>Quarantined</th>\n",
       "      <th>DateOnset</th>\n",
       "      <th>Pregnanttab</th>\n",
       "      <th>ValidationStatus</th>\n",
       "    </tr>\n",
       "  </thead>\n",
       "  <tbody>\n",
       "    <tr>\n",
       "      <th>0</th>\n",
       "      <td>C404174</td>\n",
       "      <td>38.0</td>\n",
       "      <td>35 to 39</td>\n",
       "      <td>FEMALE</td>\n",
       "      <td>NaN</td>\n",
       "      <td>2020-01-30</td>\n",
       "      <td>2020-01-30</td>\n",
       "      <td>NaN</td>\n",
       "      <td>NaN</td>\n",
       "      <td>RECOVERED</td>\n",
       "      <td>...</td>\n",
       "      <td>NEGROS ORIENTAL</td>\n",
       "      <td>DUMAGUETE CITY (CAPITAL)</td>\n",
       "      <td>PH074610000</td>\n",
       "      <td>NaN</td>\n",
       "      <td>NaN</td>\n",
       "      <td>RECOVERED</td>\n",
       "      <td>NO</td>\n",
       "      <td>2020-01-21</td>\n",
       "      <td>NO</td>\n",
       "      <td>Removal Type is \"Recovered\", but no Recovered ...</td>\n",
       "    </tr>\n",
       "    <tr>\n",
       "      <th>1</th>\n",
       "      <td>C462688</td>\n",
       "      <td>44.0</td>\n",
       "      <td>40 to 44</td>\n",
       "      <td>MALE</td>\n",
       "      <td>NaN</td>\n",
       "      <td>2020-01-30</td>\n",
       "      <td>2020-02-03</td>\n",
       "      <td>2020-02-01</td>\n",
       "      <td>NaN</td>\n",
       "      <td>DIED</td>\n",
       "      <td>...</td>\n",
       "      <td>NEGROS ORIENTAL</td>\n",
       "      <td>DUMAGUETE CITY (CAPITAL)</td>\n",
       "      <td>PH074610000</td>\n",
       "      <td>NaN</td>\n",
       "      <td>NaN</td>\n",
       "      <td>DIED</td>\n",
       "      <td>NO</td>\n",
       "      <td>2020-01-18</td>\n",
       "      <td>NaN</td>\n",
       "      <td>NaN</td>\n",
       "    </tr>\n",
       "    <tr>\n",
       "      <th>2</th>\n",
       "      <td>C387710</td>\n",
       "      <td>60.0</td>\n",
       "      <td>60 to 64</td>\n",
       "      <td>FEMALE</td>\n",
       "      <td>2020-01-23</td>\n",
       "      <td>2020-01-30</td>\n",
       "      <td>2020-02-05</td>\n",
       "      <td>NaN</td>\n",
       "      <td>2020-01-31</td>\n",
       "      <td>RECOVERED</td>\n",
       "      <td>...</td>\n",
       "      <td>BOHOL</td>\n",
       "      <td>PANGLAO</td>\n",
       "      <td>PH071233000</td>\n",
       "      <td>NaN</td>\n",
       "      <td>NaN</td>\n",
       "      <td>RECOVERED</td>\n",
       "      <td>NO</td>\n",
       "      <td>2020-01-21</td>\n",
       "      <td>NO</td>\n",
       "      <td>Case has Admitting Facility but is not Admitte...</td>\n",
       "    </tr>\n",
       "    <tr>\n",
       "      <th>3</th>\n",
       "      <td>C377460</td>\n",
       "      <td>49.0</td>\n",
       "      <td>45 to 49</td>\n",
       "      <td>MALE</td>\n",
       "      <td>NaN</td>\n",
       "      <td>NaN</td>\n",
       "      <td>2020-03-06</td>\n",
       "      <td>NaN</td>\n",
       "      <td>NaN</td>\n",
       "      <td>RECOVERED</td>\n",
       "      <td>...</td>\n",
       "      <td>BATANGAS</td>\n",
       "      <td>SANTO TOMAS</td>\n",
       "      <td>PH041028000</td>\n",
       "      <td>NaN</td>\n",
       "      <td>NaN</td>\n",
       "      <td>RECOVERED</td>\n",
       "      <td>NO</td>\n",
       "      <td>NaN</td>\n",
       "      <td>NaN</td>\n",
       "      <td>Case has Admitting Facility but is not Admitte...</td>\n",
       "    </tr>\n",
       "    <tr>\n",
       "      <th>4</th>\n",
       "      <td>C498051</td>\n",
       "      <td>63.0</td>\n",
       "      <td>60 to 64</td>\n",
       "      <td>MALE</td>\n",
       "      <td>2020-03-05</td>\n",
       "      <td>NaN</td>\n",
       "      <td>2020-03-06</td>\n",
       "      <td>2020-03-11</td>\n",
       "      <td>NaN</td>\n",
       "      <td>DIED</td>\n",
       "      <td>...</td>\n",
       "      <td>RIZAL</td>\n",
       "      <td>CAINTA</td>\n",
       "      <td>PH045805000</td>\n",
       "      <td>NaN</td>\n",
       "      <td>NaN</td>\n",
       "      <td>DIED</td>\n",
       "      <td>NO</td>\n",
       "      <td>NaN</td>\n",
       "      <td>NaN</td>\n",
       "      <td>Age or Birthdate is Invalid\\nCase has Lab Resu...</td>\n",
       "    </tr>\n",
       "  </tbody>\n",
       "</table>\n",
       "<p>5 rows × 23 columns</p>\n",
       "</div>"
      ],
      "text/plain": [
       "  CaseCode   Age  AgeGroup     Sex DateSpecimen DateResultRelease DateRepConf  \\\n",
       "0  C404174  38.0  35 to 39  FEMALE          NaN        2020-01-30  2020-01-30   \n",
       "1  C462688  44.0  40 to 44    MALE          NaN        2020-01-30  2020-02-03   \n",
       "2  C387710  60.0  60 to 64  FEMALE   2020-01-23        2020-01-30  2020-02-05   \n",
       "3  C377460  49.0  45 to 49    MALE          NaN               NaN  2020-03-06   \n",
       "4  C498051  63.0  60 to 64    MALE   2020-03-05               NaN  2020-03-06   \n",
       "\n",
       "     DateDied DateRecover RemovalType  ...          ProvRes  \\\n",
       "0         NaN         NaN   RECOVERED  ...  NEGROS ORIENTAL   \n",
       "1  2020-02-01         NaN        DIED  ...  NEGROS ORIENTAL   \n",
       "2         NaN  2020-01-31   RECOVERED  ...            BOHOL   \n",
       "3         NaN         NaN   RECOVERED  ...         BATANGAS   \n",
       "4  2020-03-11         NaN        DIED  ...            RIZAL   \n",
       "\n",
       "                 CityMunRes CityMuniPSGC BarangayRes BarangayPSGC  \\\n",
       "0  DUMAGUETE CITY (CAPITAL)  PH074610000         NaN          NaN   \n",
       "1  DUMAGUETE CITY (CAPITAL)  PH074610000         NaN          NaN   \n",
       "2                   PANGLAO  PH071233000         NaN          NaN   \n",
       "3               SANTO TOMAS  PH041028000         NaN          NaN   \n",
       "4                    CAINTA  PH045805000         NaN          NaN   \n",
       "\n",
       "  HealthStatus Quarantined   DateOnset Pregnanttab  \\\n",
       "0    RECOVERED          NO  2020-01-21          NO   \n",
       "1         DIED          NO  2020-01-18         NaN   \n",
       "2    RECOVERED          NO  2020-01-21          NO   \n",
       "3    RECOVERED          NO         NaN         NaN   \n",
       "4         DIED          NO         NaN         NaN   \n",
       "\n",
       "                                    ValidationStatus  \n",
       "0  Removal Type is \"Recovered\", but no Recovered ...  \n",
       "1                                                NaN  \n",
       "2  Case has Admitting Facility but is not Admitte...  \n",
       "3  Case has Admitting Facility but is not Admitte...  \n",
       "4  Age or Birthdate is Invalid\\nCase has Lab Resu...  \n",
       "\n",
       "[5 rows x 23 columns]"
      ]
     },
     "execution_count": 3,
     "metadata": {},
     "output_type": "execute_result"
    }
   ],
   "source": [
    "df.head(5)"
   ]
  },
  {
   "cell_type": "markdown",
   "metadata": {},
   "source": [
    "check schema and null values"
   ]
  },
  {
   "cell_type": "code",
   "execution_count": 4,
   "metadata": {},
   "outputs": [
    {
     "name": "stdout",
     "output_type": "stream",
     "text": [
      "Index(['CaseCode', 'Age', 'AgeGroup', 'Sex', 'DateSpecimen',\n",
      "       'DateResultRelease', 'DateRepConf', 'DateDied', 'DateRecover',\n",
      "       'RemovalType', 'DateRepRem', 'Admitted', 'RegionRes', 'ProvRes',\n",
      "       'CityMunRes', 'CityMuniPSGC', 'BarangayRes', 'BarangayPSGC',\n",
      "       'HealthStatus', 'Quarantined', 'DateOnset', 'Pregnanttab',\n",
      "       'ValidationStatus'],\n",
      "      dtype='object')\n"
     ]
    }
   ],
   "source": [
    "print(df.columns)"
   ]
  },
  {
   "cell_type": "code",
   "execution_count": 5,
   "metadata": {},
   "outputs": [
    {
     "data": {
      "text/plain": [
       "CaseCode             4136488\n",
       "Age                  4124590\n",
       "AgeGroup             4124590\n",
       "Sex                  4136487\n",
       "DateSpecimen         3160932\n",
       "DateResultRelease    3160257\n",
       "DateRepConf          4136488\n",
       "DateDied               66186\n",
       "DateRecover           732034\n",
       "RemovalType          4134715\n",
       "DateRepRem           4134715\n",
       "Admitted             3962865\n",
       "RegionRes            4132606\n",
       "ProvRes              4079119\n",
       "CityMunRes           4030963\n",
       "CityMuniPSGC         4024992\n",
       "BarangayRes          3767422\n",
       "BarangayPSGC         3761581\n",
       "HealthStatus         4136488\n",
       "Quarantined          4021265\n",
       "DateOnset            1491934\n",
       "Pregnanttab          2067561\n",
       "ValidationStatus     4089563\n",
       "dtype: int64"
      ]
     },
     "execution_count": 5,
     "metadata": {},
     "output_type": "execute_result"
    }
   ],
   "source": [
    "df.count()"
   ]
  },
  {
   "cell_type": "code",
   "execution_count": 6,
   "metadata": {},
   "outputs": [
    {
     "name": "stdout",
     "output_type": "stream",
     "text": [
      "CaseCode              0.000000\n",
      "Age                   0.287635\n",
      "AgeGroup              0.287635\n",
      "Sex                   0.000024\n",
      "DateSpecimen         23.584161\n",
      "DateResultRelease    23.600479\n",
      "DateRepConf           0.000000\n",
      "DateDied             98.399947\n",
      "DateRecover          82.303007\n",
      "RemovalType           0.042862\n",
      "DateRepRem            0.042862\n",
      "Admitted              4.197353\n",
      "RegionRes             0.093848\n",
      "ProvRes               1.386901\n",
      "CityMunRes            2.551077\n",
      "CityMuniPSGC          2.695427\n",
      "BarangayRes           8.922206\n",
      "BarangayPSGC          9.063413\n",
      "HealthStatus          0.000000\n",
      "Quarantined           2.785527\n",
      "DateOnset            63.932350\n",
      "Pregnanttab          50.016512\n",
      "ValidationStatus      1.134416\n",
      "dtype: float64\n"
     ]
    }
   ],
   "source": [
    "missing_data = df.isnull().mean() * 100\n",
    "print(missing_data)\n"
   ]
  },
  {
   "cell_type": "code",
   "execution_count": 34,
   "metadata": {},
   "outputs": [
    {
     "data": {
      "text/plain": [
       "CaseCode                     object\n",
       "Age                         float64\n",
       "AgeGroup                     object\n",
       "Sex                          object\n",
       "DateSpecimen         datetime64[ns]\n",
       "DateResultRelease    datetime64[ns]\n",
       "DateRepConf          datetime64[ns]\n",
       "DateDied             datetime64[ns]\n",
       "DateRecover          datetime64[ns]\n",
       "RemovalType                  object\n",
       "DateRepRem           datetime64[ns]\n",
       "Admitted                     object\n",
       "RegionRes                    object\n",
       "ProvRes                      object\n",
       "CityMunRes                   object\n",
       "CityMuniPSGC                 object\n",
       "BarangayRes                  object\n",
       "BarangayPSGC                 object\n",
       "HealthStatus                 object\n",
       "Quarantined                  object\n",
       "DateOnset            datetime64[ns]\n",
       "Pregnanttab                  object\n",
       "ValidationStatus             object\n",
       "dtype: object"
      ]
     },
     "execution_count": 34,
     "metadata": {},
     "output_type": "execute_result"
    }
   ],
   "source": [
    "df.dtypes"
   ]
  },
  {
   "cell_type": "markdown",
   "metadata": {},
   "source": [
    "assert data types and data cleaning"
   ]
  },
  {
   "cell_type": "code",
   "execution_count": 8,
   "metadata": {},
   "outputs": [],
   "source": [
    "date_columns = ['DateSpecimen', 'DateResultRelease','DateRepConf', 'DateDied', 'DateRecover', 'DateRepRem', 'DateOnset']\n",
    "num_columns = ['Age']"
   ]
  },
  {
   "cell_type": "code",
   "execution_count": 9,
   "metadata": {},
   "outputs": [],
   "source": [
    "for date in date_columns:\n",
    "    df[date] = pd.to_datetime(df[date], errors= 'coerce')\n",
    "\n",
    "for num in num_columns:\n",
    "    df[num] = pd.to_numeric(df[num], errors = 'coerce')"
   ]
  },
  {
   "cell_type": "code",
   "execution_count": 44,
   "metadata": {},
   "outputs": [],
   "source": [
    "# uses the removal type and DateRepRem column to infer recoveries and deaths, more reliable and cleaner\n",
    "\n",
    "infer_deaths = df[df['RemovalType'] == 'DIED']\n",
    "infer_recoveries = df[df['RemovalType'] == 'RECOVERED']"
   ]
  },
  {
   "cell_type": "code",
   "execution_count": null,
   "metadata": {},
   "outputs": [
    {
     "data": {
      "text/plain": [
       "3933405"
      ]
     },
     "execution_count": 50,
     "metadata": {},
     "output_type": "execute_result"
    }
   ],
   "source": [
    "# returns a series of dates, along with the number of instances of the date (e.g. number of cases for that day)\n",
    "\n",
    "cases = df.groupby('DateRepConf').size()\n",
    "deaths = infer_deaths.groupby('DateRepRem').size()\n",
    "recoveries = infer_recoveries.groupby('DateRepRem').size()"
   ]
  },
  {
   "cell_type": "code",
   "execution_count": 61,
   "metadata": {},
   "outputs": [
    {
     "data": {
      "text/plain": [
       "[0.9659822119205586, 0.9670608679147589, 0.9928212491026561]"
      ]
     },
     "execution_count": 61,
     "metadata": {},
     "output_type": "execute_result"
    }
   ],
   "source": [
    "# confirm to real life figures: 4140863 / 66864 / 4067381\n",
    "\n",
    "df_items = [cases, recoveries, deaths]\n",
    "real_figures = [4140863, 4067381,  66864]\n",
    "\n",
    "def confirm_values(df_items: list, real_figures: list) -> list:\n",
    "    results = []\n",
    "    for item, figure in zip(df_items, real_figures):\n",
    "        accuracy = (item.values.sum())/figure\n",
    "        results.append(accuracy)\n",
    "    return results\n",
    "    \n",
    "confirm_values(df_items, real_figures)"
   ]
  },
  {
   "cell_type": "markdown",
   "metadata": {},
   "source": [
    "visualization"
   ]
  },
  {
   "cell_type": "code",
   "execution_count": 73,
   "metadata": {},
   "outputs": [
    {
     "data": {
      "image/png": "[encoded data removed]",
      "text/plain": [
       "<Figure size 1600x900 with 1 Axes>"
      ]
     },
     "metadata": {},
     "output_type": "display_data"
    }
   ],
   "source": [
    "plt.figure(figsize=(16,9))\n",
    "plt.bar(cases.index, cases.values, label = 'Cases', color = 'darkorange', width = 0.9)\n",
    "plt.bar(recoveries.index, recoveries.values, label = 'Recoveries', color = 'green', width = 0.9)\n",
    "plt.bar(deaths.index, deaths.values, label = 'Deaths', color = 'red', width = 0.9)\n",
    "\n",
    "plt.title('COVID-19 Cases, Recoveries, and Deaths in the Philippines')\n",
    "plt.xlabel('Dates')\n",
    "plt.ylabel('Cases')\n",
    "plt.legend()\n",
    "plt.show()\n"
   ]
  }
 ],
 "metadata": {
  "kernelspec": {
   "display_name": "Python (med-env)",
   "language": "python",
   "name": "med-env"
  },
  "language_info": {
   "codemirror_mode": {
    "name": "ipython",
    "version": 3
   },
   "file_extension": ".py",
   "mimetype": "text/x-python",
   "name": "python",
   "nbconvert_exporter": "python",
   "pygments_lexer": "ipython3",
   "version": "3.10.15"
  }
 },
 "nbformat": 4,
 "nbformat_minor": 2
}
