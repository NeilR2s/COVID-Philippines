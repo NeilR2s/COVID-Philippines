{
 "cells": [
  {
   "cell_type": "code",
   "execution_count": 3,
   "metadata": {},
   "outputs": [],
   "source": [
    "import pandas as pd\n",
    "import numpy as np\n",
    "import matplotlib.pyplot as plt\n",
    "%matplotlib inline"
   ]
  },
  {
   "cell_type": "code",
   "execution_count": 6,
   "metadata": {},
   "outputs": [
    {
     "name": "stderr",
     "output_type": "stream",
     "text": [
      "C:\\Users\\Neil\\AppData\\Local\\Temp\\ipykernel_19144\\952352160.py:2: DtypeWarning: Columns (16,17) have mixed types. Specify dtype option on import or set low_memory=False.\n",
      "  dataframes = [pd.read_csv(file) for file in files]\n",
      "C:\\Users\\Neil\\AppData\\Local\\Temp\\ipykernel_19144\\952352160.py:2: DtypeWarning: Columns (8,11,19,21) have mixed types. Specify dtype option on import or set low_memory=False.\n",
      "  dataframes = [pd.read_csv(file) for file in files]\n"
     ]
    }
   ],
   "source": [
    "files = [f'Cases-{i}.csv' for i in range(5)]\n",
    "dataframes = [pd.read_csv(file) for file in files]\n",
    "df = pd.concat(dataframes, ignore_index = True)"
   ]
  },
  {
   "cell_type": "code",
   "execution_count": 8,
   "metadata": {},
   "outputs": [
    {
     "data": {
      "text/html": [
       "<div>\n",
       "<style scoped>\n",
       "    .dataframe tbody tr th:only-of-type {\n",
       "        vertical-align: middle;\n",
       "    }\n",
       "\n",
       "    .dataframe tbody tr th {\n",
       "        vertical-align: top;\n",
       "    }\n",
       "\n",
       "    .dataframe thead th {\n",
       "        text-align: right;\n",
       "    }\n",
       "</style>\n",
       "<table border=\"1\" class=\"dataframe\">\n",
       "  <thead>\n",
       "    <tr style=\"text-align: right;\">\n",
       "      <th></th>\n",
       "      <th>CaseCode</th>\n",
       "      <th>Age</th>\n",
       "      <th>AgeGroup</th>\n",
       "      <th>Sex</th>\n",
       "      <th>DateSpecimen</th>\n",
       "      <th>DateResultRelease</th>\n",
       "      <th>DateRepConf</th>\n",
       "      <th>DateDied</th>\n",
       "      <th>DateRecover</th>\n",
       "      <th>RemovalType</th>\n",
       "      <th>...</th>\n",
       "      <th>ProvRes</th>\n",
       "      <th>CityMunRes</th>\n",
       "      <th>CityMuniPSGC</th>\n",
       "      <th>BarangayRes</th>\n",
       "      <th>BarangayPSGC</th>\n",
       "      <th>HealthStatus</th>\n",
       "      <th>Quarantined</th>\n",
       "      <th>DateOnset</th>\n",
       "      <th>Pregnanttab</th>\n",
       "      <th>ValidationStatus</th>\n",
       "    </tr>\n",
       "  </thead>\n",
       "  <tbody>\n",
       "    <tr>\n",
       "      <th>0</th>\n",
       "      <td>C404174</td>\n",
       "      <td>38.0</td>\n",
       "      <td>35 to 39</td>\n",
       "      <td>FEMALE</td>\n",
       "      <td>NaN</td>\n",
       "      <td>2020-01-30</td>\n",
       "      <td>2020-01-30</td>\n",
       "      <td>NaN</td>\n",
       "      <td>NaN</td>\n",
       "      <td>RECOVERED</td>\n",
       "      <td>...</td>\n",
       "      <td>NEGROS ORIENTAL</td>\n",
       "      <td>DUMAGUETE CITY (CAPITAL)</td>\n",
       "      <td>PH074610000</td>\n",
       "      <td>NaN</td>\n",
       "      <td>NaN</td>\n",
       "      <td>RECOVERED</td>\n",
       "      <td>NO</td>\n",
       "      <td>2020-01-21</td>\n",
       "      <td>NO</td>\n",
       "      <td>Removal Type is \"Recovered\", but no Recovered ...</td>\n",
       "    </tr>\n",
       "    <tr>\n",
       "      <th>1</th>\n",
       "      <td>C462688</td>\n",
       "      <td>44.0</td>\n",
       "      <td>40 to 44</td>\n",
       "      <td>MALE</td>\n",
       "      <td>NaN</td>\n",
       "      <td>2020-01-30</td>\n",
       "      <td>2020-02-03</td>\n",
       "      <td>2020-02-01</td>\n",
       "      <td>NaN</td>\n",
       "      <td>DIED</td>\n",
       "      <td>...</td>\n",
       "      <td>NEGROS ORIENTAL</td>\n",
       "      <td>DUMAGUETE CITY (CAPITAL)</td>\n",
       "      <td>PH074610000</td>\n",
       "      <td>NaN</td>\n",
       "      <td>NaN</td>\n",
       "      <td>DIED</td>\n",
       "      <td>NO</td>\n",
       "      <td>2020-01-18</td>\n",
       "      <td>NaN</td>\n",
       "      <td>NaN</td>\n",
       "    </tr>\n",
       "    <tr>\n",
       "      <th>2</th>\n",
       "      <td>C387710</td>\n",
       "      <td>60.0</td>\n",
       "      <td>60 to 64</td>\n",
       "      <td>FEMALE</td>\n",
       "      <td>2020-01-23</td>\n",
       "      <td>2020-01-30</td>\n",
       "      <td>2020-02-05</td>\n",
       "      <td>NaN</td>\n",
       "      <td>2020-01-31</td>\n",
       "      <td>RECOVERED</td>\n",
       "      <td>...</td>\n",
       "      <td>BOHOL</td>\n",
       "      <td>PANGLAO</td>\n",
       "      <td>PH071233000</td>\n",
       "      <td>NaN</td>\n",
       "      <td>NaN</td>\n",
       "      <td>RECOVERED</td>\n",
       "      <td>NO</td>\n",
       "      <td>2020-01-21</td>\n",
       "      <td>NO</td>\n",
       "      <td>Case has Admitting Facility but is not Admitte...</td>\n",
       "    </tr>\n",
       "    <tr>\n",
       "      <th>3</th>\n",
       "      <td>C377460</td>\n",
       "      <td>49.0</td>\n",
       "      <td>45 to 49</td>\n",
       "      <td>MALE</td>\n",
       "      <td>NaN</td>\n",
       "      <td>NaN</td>\n",
       "      <td>2020-03-06</td>\n",
       "      <td>NaN</td>\n",
       "      <td>NaN</td>\n",
       "      <td>RECOVERED</td>\n",
       "      <td>...</td>\n",
       "      <td>BATANGAS</td>\n",
       "      <td>SANTO TOMAS</td>\n",
       "      <td>PH041028000</td>\n",
       "      <td>NaN</td>\n",
       "      <td>NaN</td>\n",
       "      <td>RECOVERED</td>\n",
       "      <td>NO</td>\n",
       "      <td>NaN</td>\n",
       "      <td>NaN</td>\n",
       "      <td>Case has Admitting Facility but is not Admitte...</td>\n",
       "    </tr>\n",
       "    <tr>\n",
       "      <th>4</th>\n",
       "      <td>C498051</td>\n",
       "      <td>63.0</td>\n",
       "      <td>60 to 64</td>\n",
       "      <td>MALE</td>\n",
       "      <td>2020-03-05</td>\n",
       "      <td>NaN</td>\n",
       "      <td>2020-03-06</td>\n",
       "      <td>2020-03-11</td>\n",
       "      <td>NaN</td>\n",
       "      <td>DIED</td>\n",
       "      <td>...</td>\n",
       "      <td>RIZAL</td>\n",
       "      <td>CAINTA</td>\n",
       "      <td>PH045805000</td>\n",
       "      <td>NaN</td>\n",
       "      <td>NaN</td>\n",
       "      <td>DIED</td>\n",
       "      <td>NO</td>\n",
       "      <td>NaN</td>\n",
       "      <td>NaN</td>\n",
       "      <td>Age or Birthdate is Invalid\\nCase has Lab Resu...</td>\n",
       "    </tr>\n",
       "  </tbody>\n",
       "</table>\n",
       "<p>5 rows × 23 columns</p>\n",
       "</div>"
      ],
      "text/plain": [
       "  CaseCode   Age  AgeGroup     Sex DateSpecimen DateResultRelease DateRepConf  \\\n",
       "0  C404174  38.0  35 to 39  FEMALE          NaN        2020-01-30  2020-01-30   \n",
       "1  C462688  44.0  40 to 44    MALE          NaN        2020-01-30  2020-02-03   \n",
       "2  C387710  60.0  60 to 64  FEMALE   2020-01-23        2020-01-30  2020-02-05   \n",
       "3  C377460  49.0  45 to 49    MALE          NaN               NaN  2020-03-06   \n",
       "4  C498051  63.0  60 to 64    MALE   2020-03-05               NaN  2020-03-06   \n",
       "\n",
       "     DateDied DateRecover RemovalType  ...          ProvRes  \\\n",
       "0         NaN         NaN   RECOVERED  ...  NEGROS ORIENTAL   \n",
       "1  2020-02-01         NaN        DIED  ...  NEGROS ORIENTAL   \n",
       "2         NaN  2020-01-31   RECOVERED  ...            BOHOL   \n",
       "3         NaN         NaN   RECOVERED  ...         BATANGAS   \n",
       "4  2020-03-11         NaN        DIED  ...            RIZAL   \n",
       "\n",
       "                 CityMunRes CityMuniPSGC BarangayRes BarangayPSGC  \\\n",
       "0  DUMAGUETE CITY (CAPITAL)  PH074610000         NaN          NaN   \n",
       "1  DUMAGUETE CITY (CAPITAL)  PH074610000         NaN          NaN   \n",
       "2                   PANGLAO  PH071233000         NaN          NaN   \n",
       "3               SANTO TOMAS  PH041028000         NaN          NaN   \n",
       "4                    CAINTA  PH045805000         NaN          NaN   \n",
       "\n",
       "  HealthStatus Quarantined   DateOnset Pregnanttab  \\\n",
       "0    RECOVERED          NO  2020-01-21          NO   \n",
       "1         DIED          NO  2020-01-18         NaN   \n",
       "2    RECOVERED          NO  2020-01-21          NO   \n",
       "3    RECOVERED          NO         NaN         NaN   \n",
       "4         DIED          NO         NaN         NaN   \n",
       "\n",
       "                                    ValidationStatus  \n",
       "0  Removal Type is \"Recovered\", but no Recovered ...  \n",
       "1                                                NaN  \n",
       "2  Case has Admitting Facility but is not Admitte...  \n",
       "3  Case has Admitting Facility but is not Admitte...  \n",
       "4  Age or Birthdate is Invalid\\nCase has Lab Resu...  \n",
       "\n",
       "[5 rows x 23 columns]"
      ]
     },
     "execution_count": 8,
     "metadata": {},
     "output_type": "execute_result"
    }
   ],
   "source": [
    "df.head(5)"
   ]
  },
  {
   "cell_type": "code",
   "execution_count": 12,
   "metadata": {},
   "outputs": [
    {
     "name": "stdout",
     "output_type": "stream",
     "text": [
      "Index(['CaseCode', 'Age', 'AgeGroup', 'Sex', 'DateSpecimen',\n",
      "       'DateResultRelease', 'DateRepConf', 'DateDied', 'DateRecover',\n",
      "       'RemovalType', 'DateRepRem', 'Admitted', 'RegionRes', 'ProvRes',\n",
      "       'CityMunRes', 'CityMuniPSGC', 'BarangayRes', 'BarangayPSGC',\n",
      "       'HealthStatus', 'Quarantined', 'DateOnset', 'Pregnanttab',\n",
      "       'ValidationStatus'],\n",
      "      dtype='object')\n"
     ]
    }
   ],
   "source": [
    "print(df.columns)"
   ]
  },
  {
   "cell_type": "code",
   "execution_count": 20,
   "metadata": {},
   "outputs": [
    {
     "data": {
      "text/plain": [
       "(4136488, 23)"
      ]
     },
     "execution_count": 20,
     "metadata": {},
     "output_type": "execute_result"
    }
   ],
   "source": [
    "date_columns = ['DateSpecimen', 'DateResultRelease','DateRepConf', 'DateDied', 'DateRecover', 'DateRepRem', 'DateOnset']\n",
    "for date in date_columns:\n",
    "    df[date] = pd.to_datetime(df[date], errors = 'coerce')\n",
    "\n",
    "df.dropna(subset = [])"
   ]
  },
  {
   "cell_type": "code",
   "execution_count": 33,
   "metadata": {},
   "outputs": [
    {
     "data": {
      "text/plain": [
       "CaseCode             4136488\n",
       "Age                  4124590\n",
       "AgeGroup             4124590\n",
       "Sex                  4136487\n",
       "DateSpecimen         3026051\n",
       "DateResultRelease    3025344\n",
       "DateRepConf          4000000\n",
       "DateDied               65717\n",
       "DateRecover           731077\n",
       "RemovalType          4134715\n",
       "DateRepRem           3999789\n",
       "Admitted             3962865\n",
       "RegionRes            4132606\n",
       "ProvRes              4079119\n",
       "CityMunRes           4030963\n",
       "CityMuniPSGC         4024992\n",
       "BarangayRes          3767422\n",
       "BarangayPSGC         3761581\n",
       "HealthStatus         4136488\n",
       "Quarantined          4021265\n",
       "DateOnset            1437626\n",
       "Pregnanttab          2067561\n",
       "ValidationStatus     4089563\n",
       "dtype: int64"
      ]
     },
     "execution_count": 33,
     "metadata": {},
     "output_type": "execute_result"
    }
   ],
   "source": [
    "df.count()"
   ]
  },
  {
   "cell_type": "code",
   "execution_count": 31,
   "metadata": {},
   "outputs": [
    {
     "data": {
      "text/plain": [
       "CaseCode                   0\n",
       "Age                    11898\n",
       "AgeGroup               11898\n",
       "Sex                        1\n",
       "DateSpecimen         1110437\n",
       "DateResultRelease    1111144\n",
       "DateRepConf           136488\n",
       "DateDied             4070771\n",
       "DateRecover          3405411\n",
       "RemovalType             1773\n",
       "DateRepRem            136699\n",
       "Admitted              173623\n",
       "RegionRes               3882\n",
       "ProvRes                57369\n",
       "CityMunRes            105525\n",
       "CityMuniPSGC          111496\n",
       "BarangayRes           369066\n",
       "BarangayPSGC          374907\n",
       "HealthStatus               0\n",
       "Quarantined           115223\n",
       "DateOnset            2698862\n",
       "Pregnanttab          2068927\n",
       "ValidationStatus       46925\n",
       "dtype: int64"
      ]
     },
     "execution_count": 31,
     "metadata": {},
     "output_type": "execute_result"
    }
   ],
   "source": [
    "df.isnull().sum()"
   ]
  },
  {
   "cell_type": "code",
   "execution_count": null,
   "metadata": {},
   "outputs": [],
   "source": [
    "# df['DateSpecimen'] = pd.to_datetime(df['DateSpecimen'], errors = 'coerce'"
   ]
  }
 ],
 "metadata": {
  "kernelspec": {
   "display_name": "Python (med-env)",
   "language": "python",
   "name": "med-env"
  },
  "language_info": {
   "codemirror_mode": {
    "name": "ipython",
    "version": 3
   },
   "file_extension": ".py",
   "mimetype": "text/x-python",
   "name": "python",
   "nbconvert_exporter": "python",
   "pygments_lexer": "ipython3",
   "version": "3.10.15"
  }
 },
 "nbformat": 4,
 "nbformat_minor": 2
}
